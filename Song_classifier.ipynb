{
 "cells": [
  {
   "cell_type": "markdown",
   "metadata": {},
   "source": [
    "## Project \n",
    "\n",
    "This document is a modified version of project file used in Data 8 course of University of Berkeley. \n",
    "\n",
    "### Submission Deadline: 01 April 23:59\n",
    "\n",
    "### Fill this file and submit it on uzak.etu system\n",
    "\n",
    "You will build a classifier that guesses whether a song is hip-hop or country, using only the numbers of times words appear in the song's lyrics.  By the end of the project, you should know how to:\n",
    "\n",
    "1. Build a k-nearest-neighbors classifier.\n",
    "2. Test a classifier on data.\n",
    "3. Evaluate different sets of features."
   ]
  },
  {
   "cell_type": "code",
   "execution_count": 114,
   "metadata": {},
   "outputs": [],
   "source": [
    "# Run this cell, but please don't change it.\n",
    "\n",
    "import numpy as np\n",
    "import math\n",
    "import pandas as pd\n",
    "%matplotlib inline"
   ]
  },
  {
   "cell_type": "markdown",
   "metadata": {},
   "source": [
    "# 1. The Dataset\n",
    "\n",
    "Our dataset is a table of songs, each with a name, an artist, and a genre.  For each song, we also know how frequently certain words occur in that song.  More precisely, we have a list of approximately 5000 words.  For each of these words, for each song, each item in the table describes the proportion of the song's lyrics that are the particular word.\n",
    "\n",
    "For example, the lyrics of \"In Your Eyes\" is 168 words long. The word \"like\" appears twice:  $\\frac{2}{168} \\approx 0.0119$ of the words in the song. Similarly, the word \"love\" appears 10 times: $\\frac{10}{168} \\approx 0.0595$ of the words. Therefore, `lyrics.where(\"Title\", \"In Your Eyes\").column(\"like\").item(0)` is about $0.0119$, and `lyrics.where(\"Title\", \"In Your Eyes\").column(\"love\").item(0)` is about $0.0595$.\n",
    "\n",
    "Our dataset doesn't contain all information about a song.  For example, it doesn't include the total number of words in each song, or information about the order of words in the song, let alone the melody, instruments, or rhythm. Nonetheless, you may find that word counts alone are sufficient to build an accurate genre classifier.\n",
    "\n",
    "Run the cell below to read the `lyrics` table. **It may take up to a minute to load.**"
   ]
  },
  {
   "cell_type": "code",
   "execution_count": 115,
   "metadata": {},
   "outputs": [
    {
     "data": {
      "text/html": [
       "<div>\n",
       "<style scoped>\n",
       "    .dataframe tbody tr th:only-of-type {\n",
       "        vertical-align: middle;\n",
       "    }\n",
       "\n",
       "    .dataframe tbody tr th {\n",
       "        vertical-align: top;\n",
       "    }\n",
       "\n",
       "    .dataframe thead th {\n",
       "        text-align: right;\n",
       "    }\n",
       "</style>\n",
       "<table border=\"1\" class=\"dataframe\">\n",
       "  <thead>\n",
       "    <tr style=\"text-align: right;\">\n",
       "      <th></th>\n",
       "      <th>Title</th>\n",
       "      <th>Artist</th>\n",
       "      <th>Genre</th>\n",
       "      <th>i</th>\n",
       "      <th>the</th>\n",
       "      <th>you</th>\n",
       "      <th>to</th>\n",
       "      <th>and</th>\n",
       "      <th>a</th>\n",
       "      <th>me</th>\n",
       "      <th>...</th>\n",
       "      <th>writer</th>\n",
       "      <th>motivo</th>\n",
       "      <th>bake</th>\n",
       "      <th>insist</th>\n",
       "      <th>wel</th>\n",
       "      <th>santo</th>\n",
       "      <th>pe</th>\n",
       "      <th>gee</th>\n",
       "      <th>colleg</th>\n",
       "      <th>kad</th>\n",
       "    </tr>\n",
       "  </thead>\n",
       "  <tbody>\n",
       "    <tr>\n",
       "      <th>0</th>\n",
       "      <td>Slicker Than Your Average</td>\n",
       "      <td>Craig David</td>\n",
       "      <td>Hip-hop</td>\n",
       "      <td>0.049536</td>\n",
       "      <td>0.017028</td>\n",
       "      <td>0.035604</td>\n",
       "      <td>0.020124</td>\n",
       "      <td>0.007740</td>\n",
       "      <td>0.006192</td>\n",
       "      <td>0.058824</td>\n",
       "      <td>...</td>\n",
       "      <td>0.0</td>\n",
       "      <td>0.0</td>\n",
       "      <td>0.0</td>\n",
       "      <td>0.0</td>\n",
       "      <td>0</td>\n",
       "      <td>0.0</td>\n",
       "      <td>0.0</td>\n",
       "      <td>0.0</td>\n",
       "      <td>0.0</td>\n",
       "      <td>0</td>\n",
       "    </tr>\n",
       "    <tr>\n",
       "      <th>1</th>\n",
       "      <td>Right There</td>\n",
       "      <td>MF Grimm</td>\n",
       "      <td>Hip-hop</td>\n",
       "      <td>0.037825</td>\n",
       "      <td>0.054374</td>\n",
       "      <td>0.023641</td>\n",
       "      <td>0.049645</td>\n",
       "      <td>0.009456</td>\n",
       "      <td>0.016548</td>\n",
       "      <td>0.018913</td>\n",
       "      <td>...</td>\n",
       "      <td>0.0</td>\n",
       "      <td>0.0</td>\n",
       "      <td>0.0</td>\n",
       "      <td>0.0</td>\n",
       "      <td>0</td>\n",
       "      <td>0.0</td>\n",
       "      <td>0.0</td>\n",
       "      <td>0.0</td>\n",
       "      <td>0.0</td>\n",
       "      <td>0</td>\n",
       "    </tr>\n",
       "    <tr>\n",
       "      <th>2</th>\n",
       "      <td>Talkin' All That</td>\n",
       "      <td>Cashis</td>\n",
       "      <td>Hip-hop</td>\n",
       "      <td>0.056738</td>\n",
       "      <td>0.049645</td>\n",
       "      <td>0.051418</td>\n",
       "      <td>0.010638</td>\n",
       "      <td>0.026596</td>\n",
       "      <td>0.033688</td>\n",
       "      <td>0.007092</td>\n",
       "      <td>...</td>\n",
       "      <td>0.0</td>\n",
       "      <td>0.0</td>\n",
       "      <td>0.0</td>\n",
       "      <td>0.0</td>\n",
       "      <td>0</td>\n",
       "      <td>0.0</td>\n",
       "      <td>0.0</td>\n",
       "      <td>0.0</td>\n",
       "      <td>0.0</td>\n",
       "      <td>0</td>\n",
       "    </tr>\n",
       "    <tr>\n",
       "      <th>3</th>\n",
       "      <td>It Only Hurts Me When I Cry</td>\n",
       "      <td>Raul Malo</td>\n",
       "      <td>Country</td>\n",
       "      <td>0.096491</td>\n",
       "      <td>0.074561</td>\n",
       "      <td>0.030702</td>\n",
       "      <td>0.017544</td>\n",
       "      <td>0.026316</td>\n",
       "      <td>0.017544</td>\n",
       "      <td>0.021930</td>\n",
       "      <td>...</td>\n",
       "      <td>0.0</td>\n",
       "      <td>0.0</td>\n",
       "      <td>0.0</td>\n",
       "      <td>0.0</td>\n",
       "      <td>0</td>\n",
       "      <td>0.0</td>\n",
       "      <td>0.0</td>\n",
       "      <td>0.0</td>\n",
       "      <td>0.0</td>\n",
       "      <td>0</td>\n",
       "    </tr>\n",
       "    <tr>\n",
       "      <th>4</th>\n",
       "      <td>Is It Too Late Now</td>\n",
       "      <td>Lester Flatt &amp; Earl Scruggs</td>\n",
       "      <td>Country</td>\n",
       "      <td>0.043902</td>\n",
       "      <td>0.000000</td>\n",
       "      <td>0.073171</td>\n",
       "      <td>0.019512</td>\n",
       "      <td>0.000000</td>\n",
       "      <td>0.014634</td>\n",
       "      <td>0.034146</td>\n",
       "      <td>...</td>\n",
       "      <td>0.0</td>\n",
       "      <td>0.0</td>\n",
       "      <td>0.0</td>\n",
       "      <td>0.0</td>\n",
       "      <td>0</td>\n",
       "      <td>0.0</td>\n",
       "      <td>0.0</td>\n",
       "      <td>0.0</td>\n",
       "      <td>0.0</td>\n",
       "      <td>0</td>\n",
       "    </tr>\n",
       "  </tbody>\n",
       "</table>\n",
       "<p>5 rows × 4979 columns</p>\n",
       "</div>"
      ],
      "text/plain": [
       "                         Title                       Artist    Genre  \\\n",
       "0    Slicker Than Your Average                  Craig David  Hip-hop   \n",
       "1                  Right There                     MF Grimm  Hip-hop   \n",
       "2             Talkin' All That                       Cashis  Hip-hop   \n",
       "3  It Only Hurts Me When I Cry                    Raul Malo  Country   \n",
       "4           Is It Too Late Now  Lester Flatt & Earl Scruggs  Country   \n",
       "\n",
       "          i       the       you        to       and         a        me  ...  \\\n",
       "0  0.049536  0.017028  0.035604  0.020124  0.007740  0.006192  0.058824  ...   \n",
       "1  0.037825  0.054374  0.023641  0.049645  0.009456  0.016548  0.018913  ...   \n",
       "2  0.056738  0.049645  0.051418  0.010638  0.026596  0.033688  0.007092  ...   \n",
       "3  0.096491  0.074561  0.030702  0.017544  0.026316  0.017544  0.021930  ...   \n",
       "4  0.043902  0.000000  0.073171  0.019512  0.000000  0.014634  0.034146  ...   \n",
       "\n",
       "   writer  motivo  bake  insist  wel  santo   pe  gee  colleg  kad  \n",
       "0     0.0     0.0   0.0     0.0    0    0.0  0.0  0.0     0.0    0  \n",
       "1     0.0     0.0   0.0     0.0    0    0.0  0.0  0.0     0.0    0  \n",
       "2     0.0     0.0   0.0     0.0    0    0.0  0.0  0.0     0.0    0  \n",
       "3     0.0     0.0   0.0     0.0    0    0.0  0.0  0.0     0.0    0  \n",
       "4     0.0     0.0   0.0     0.0    0    0.0  0.0  0.0     0.0    0  \n",
       "\n",
       "[5 rows x 4979 columns]"
      ]
     },
     "execution_count": 115,
     "metadata": {},
     "output_type": "execute_result"
    }
   ],
   "source": [
    "# Just run this cell.\n",
    "lyrics = pd.read_csv('lyrics_clean.csv')\n",
    "\n",
    "# The first 5 rows of the table\n",
    "lyrics.head(5)"
   ]
  },
  {
   "cell_type": "markdown",
   "metadata": {},
   "source": [
    "All titles are unique. The `row_for_title` function provides fast access to the one row for each title. "
   ]
  },
  {
   "cell_type": "code",
   "execution_count": 116,
   "metadata": {},
   "outputs": [
    {
     "data": {
      "text/plain": [
       "Title     It Only Hurts Me When I Cry\n",
       "Artist                      Raul Malo\n",
       "Genre                         Country\n",
       "i                            0.096491\n",
       "the                          0.074561\n",
       "                     ...             \n",
       "santo                             0.0\n",
       "pe                                0.0\n",
       "gee                               0.0\n",
       "colleg                            0.0\n",
       "kad                                 0\n",
       "Name: 3, Length: 4979, dtype: object"
      ]
     },
     "execution_count": 116,
     "metadata": {},
     "output_type": "execute_result"
    }
   ],
   "source": [
    "#title_index = lyrics.index_by('Title')\n",
    "def row_for_title(title):\n",
    "    return lyrics[ lyrics[\"Title\"] == title ].iloc[0] \n",
    "# to see an example\n",
    "row_for_title(\"It Only Hurts Me When I Cry\")"
   ]
  },
  {
   "cell_type": "markdown",
   "metadata": {},
   "source": [
    "This dataset was extracted from the Million Song Dataset (http://labrosa.ee.columbia.edu/millionsong/). Specifically, we are using the complementary datasets from musiXmatch (http://labrosa.ee.columbia.edu/millionsong/musixmatch) and Last.fm (http://labrosa.ee.columbia.edu/millionsong/lastfm).\n",
    "\n",
    "The counts of common words in the lyrics for all of these songs are provided by the musiXmatch dataset (called a bag-of-words format). Only the top 5000 most common words are represented. For each song, we divided the number of occurrences of each word by the total number of word occurrences in the lyrics of that song.\n",
    "\n",
    "The Last.fm dataset contains multiple tags for each song in the Million Song Dataset. Some of the tags are genre-related, such as \"pop\", \"rock\", \"classic\", etc.  To obtain our dataset, we first extracted songs with Last.fm tags that included the words \"country\", or \"hip\" and \"hop\". These songs were then cross-referenced with the musiXmatch dataset, and only songs with musixMatch lyrics were placed into our dataset. Finally, inappropriate words and songs with naughty titles were removed, leaving us with 4976 words in the vocabulary and 1726 songs."
   ]
  },
  {
   "cell_type": "markdown",
   "metadata": {},
   "source": [
    "## 1.1. Word Stemming\n",
    "The columns other than Title, Artist, and Genre in the `lyrics` table are all words that appear in some of the songs in our dataset.  Some of those names have been *stemmed*, or abbreviated heuristically, in an attempt to make different [inflected](https://en.wikipedia.org/wiki/Inflection) forms of the same base word into the same string.  For example, the column \"manag\" is the sum of proportions of the words \"manage\", \"manager\", \"managed\", and \"managerial\" (and perhaps others) in each song.  \n",
    "\n",
    "Stemming makes it a little tricky to search for the words you want to use, so we have provided another table that will let you see examples of unstemmed versions of each stemmed word.  Run the code below to load it."
   ]
  },
  {
   "cell_type": "markdown",
   "metadata": {},
   "source": [
    "**Question 1.1 [6 Points]** Stemming is normally a tricky operation. However,  we will do a simple operation for that. For a given word, first remove \"s\" at the end (if any).) \n",
    "Next, if the remaning part of the word ends with \"er\", remove it.\n",
    "Next, if the remaning part of the word is longer than 5 letters, take the only first five letters.\n",
    "Complete the function given below which returns stemmed version of a given word"
   ]
  },
  {
   "cell_type": "code",
   "execution_count": 117,
   "metadata": {},
   "outputs": [],
   "source": [
    "# your answer should be here\n",
    "def stemmer(word):\n",
    "    if word[-1]==\"s\":\n",
    "        word = word[0:-1]\n",
    "    if word[-2::1] == \"er\":\n",
    "        word = word[0:-2]\n",
    "    if len(word) > 5:\n",
    "        return word[:5]\n",
    "    return word"
   ]
  },
  {
   "cell_type": "markdown",
   "metadata": {},
   "source": [
    "**Question 1.2 [2 Points]** Run your stemmer function for the following words: yes, manager, hers, function and print their output. "
   ]
  },
  {
   "cell_type": "code",
   "execution_count": 118,
   "metadata": {},
   "outputs": [
    {
     "name": "stdout",
     "output_type": "stream",
     "text": [
      "yes:  ye\n",
      "manager:  manag\n",
      "hers:  h\n",
      "function:  funct\n"
     ]
    }
   ],
   "source": [
    "print(\"yes: \",stemmer(\"yes\"))\n",
    "print(\"manager: \",stemmer(\"manager\"))\n",
    "print(\"hers: \",stemmer(\"hers\"))\n",
    "print(\"function: \",stemmer(\"function\"))"
   ]
  },
  {
   "cell_type": "markdown",
   "metadata": {},
   "source": [
    "**Question 1.3 [4 Points]** Count the number of characters, the number of words, and the number of unique words in the \"text.txt\". To count the number of characters, you should count every character except  spaces, dots and commas. "
   ]
  },
  {
   "cell_type": "code",
   "execution_count": 119,
   "metadata": {},
   "outputs": [
    {
     "name": "stdout",
     "output_type": "stream",
     "text": [
      "The number of characters:\t 9968 \n",
      "The number of words:\t 1771 \n",
      "The number of unique words:\t 700\n"
     ]
    }
   ],
   "source": [
    "# your answer should be here\n",
    "text = open(\"text.txt\",\"r\")\n",
    "text = text.read()\n",
    "words = text.split(\" \")\n",
    "\n",
    "for i in range(len(words)):\n",
    "    if \".\" in words[i]:\n",
    "        words[i] = words[i].replace('.', '')\n",
    "    if \",\" in words[i]:\n",
    "        words[i] = words[i].replace(',', '')\n",
    "    if \"\\n\" in words[i]:\n",
    "        array = words[i].split(\"\\n\")\n",
    "        words[i] = array[0]\n",
    "        words.append(array[1])\n",
    "        \n",
    "character_length = 0\n",
    "for i in words:\n",
    "    character_length+=len(i)        \n",
    "\n",
    "word_count = len(words)\n",
    "\n",
    "unique_words = []\n",
    "for i in words:\n",
    "    if i not in unique_words:\n",
    "        unique_words.append(i)\n",
    "unique_word_count = len(unique_words)\n",
    "\n",
    "\n",
    "print(\"The number of characters:\\t\", character_length, \n",
    "      \"\\nThe number of words:\\t\",word_count,\n",
    "     \"\\nThe number of unique words:\\t\",unique_word_count,)"
   ]
  },
  {
   "cell_type": "markdown",
   "metadata": {},
   "source": [
    "**Question 1.4 [4 Points]** Apply your stemmer function to every word in the document text.txt and print the number of characters of stemmed words, the number of stemmed words, and the number of unique stemmed words in the \"text.txt\". You should replace dots and commas with a space character."
   ]
  },
  {
   "cell_type": "code",
   "execution_count": 120,
   "metadata": {},
   "outputs": [
    {
     "name": "stdout",
     "output_type": "stream",
     "text": [
      "The number of characters of stemmed words:\t 6936 \n",
      "The number of stemmed words:\t 1771 \n",
      "The number of unique stemmed words:\t 552\n"
     ]
    }
   ],
   "source": [
    "#KONTROL ET!\n",
    "\n",
    "text = open(\"text.txt\",\"r\")\n",
    "text = text.read()\n",
    "words = text.split(\" \")\n",
    "\n",
    "for i in range(len(words)):\n",
    "    if \".\" in words[i]:\n",
    "        words[i] = words[i].replace('.', '')\n",
    "    if \",\" in words[i]:\n",
    "        words[i] = words[i].replace(',', '')\n",
    "    if \"\\n\" in words[i]:\n",
    "        array = words[i].split(\"\\n\")\n",
    "        words[i] = array[0]\n",
    "        words.append(array[1])\n",
    "        \n",
    "\n",
    "stem_words = []\n",
    "for i in words:\n",
    "    stem_words.append(stemmer(i))\n",
    "    \n",
    "character_length = 0\n",
    "for i in stem_words:\n",
    "    character_length+=len(i)\n",
    "\n",
    "word_count = len(stem_words)\n",
    "\n",
    "unique_words = []\n",
    "for i in stem_words:\n",
    "    if i not in unique_words:\n",
    "        unique_words.append(i)\n",
    "unique_word_count = len(unique_words)\n",
    "\n",
    "\n",
    "print(\"The number of characters of stemmed words:\\t\", character_length, \n",
    "      \"\\nThe number of stemmed words:\\t\",word_count,\n",
    "     \"\\nThe number of unique stemmed words:\\t\",unique_word_count,)"
   ]
  },
  {
   "cell_type": "markdown",
   "metadata": {},
   "source": [
    "## 1.2. Splitting the dataset\n",
    "We're going to use our `lyrics` dataset for three purposes.  First, we want to *train* various song genre classifiers.  Second, we want to *validate* which classifier is most effective. Finally, we want to *test* the performance of our final classifier. Hence, we need three different datasets: *training*, *validation*, and *test*.\n",
    "\n",
    "The purpose of a classifier is to generalize to unseen data that is similar to the training data. Therefore, we must ensure that there are no songs that appear in two different sets. We do so by splitting the dataset randomly. The dataset has already been permuted randomly, so it's easy to split.  We just take the top for training, the next part for validation, and the last for test. \n",
    "\n",
    "Run the code below (without changing it) to separate the three datasets into tables."
   ]
  },
  {
   "cell_type": "code",
   "execution_count": 121,
   "metadata": {},
   "outputs": [
    {
     "name": "stdout",
     "output_type": "stream",
     "text": [
      "Training:  1075 ; Validation:  322 ; Test:  324\n"
     ]
    }
   ],
   "source": [
    "# Here we have defined the proportion of our data\n",
    "# that we want to designate for training as 10/16ths\n",
    "# of our total dataset.  3/16ths of the data is\n",
    "# reserved for validation.  The remaining 3/16ths\n",
    "# will be used for testing.\n",
    "\n",
    "training_proportion = 10/16\n",
    "validation_proportion = 3/16\n",
    "num_songs = lyrics.shape[0]\n",
    "\n",
    "num_train = int(num_songs * training_proportion)\n",
    "num_valid = int(num_songs * validation_proportion)\n",
    "num_test = num_songs - num_train - num_valid\n",
    "\n",
    "train_lyrics = lyrics.take(range(num_train))\n",
    "valid_lyrics = lyrics.take(range(num_train, num_train + num_valid))\n",
    "test_lyrics = lyrics.take(range(num_train + num_valid, num_songs))\n",
    "\n",
    "print(\"Training: \",   train_lyrics.shape[0], \";\",\n",
    "      \"Validation: \", valid_lyrics.shape[0], \";\",\n",
    "      \"Test: \",       test_lyrics.shape[0])"
   ]
  },
  {
   "cell_type": "markdown",
   "metadata": {},
   "source": [
    "**Question 1.2.1. [4 Points]** Draw a bar chart with three bars that shows the number of Hip-hop songs in each of the three datasets."
   ]
  },
  {
   "cell_type": "code",
   "execution_count": 122,
   "metadata": {},
   "outputs": [],
   "source": [
    "train_h = len(train_lyrics[train_lyrics[\"Genre\"] == \"Hip-hop\"])\n",
    "valid_h = len(valid_lyrics[valid_lyrics[\"Genre\"] == \"Hip-hop\"])\n",
    "test_h = len(test_lyrics[test_lyrics[\"Genre\"] == \"Hip-hop\"])\n"
   ]
  },
  {
   "cell_type": "code",
   "execution_count": 123,
   "metadata": {},
   "outputs": [
    {
     "data": {
      "text/plain": [
       "<AxesSubplot:>"
      ]
     },
     "execution_count": 123,
     "metadata": {},
     "output_type": "execute_result"
    },
    {
     "data": {
      "image/png": "[encoded data removed]",
      "text/plain": [
       "<Figure size 432x288 with 1 Axes>"
      ]
     },
     "metadata": {
      "needs_background": "light"
     },
     "output_type": "display_data"
    }
   ],
   "source": [
    "dFrame = pd.DataFrame({\n",
    "    \"number\": [train_h,valid_h,test_h]\n",
    "}, index = [\"train_lyrics\",\"valid_lyrics\",\"test_lyrics\"])\n",
    "dFrame.plot.bar( color = \"red\", alpha = 0.7)"
   ]
  },
  {
   "cell_type": "markdown",
   "metadata": {},
   "source": [
    "# 2. K-Nearest Neighbors - a Guided Example\n",
    "\n",
    "K-Nearest Neighbors (k-NN) is a classification algorithm.  Given some *features* of an unseen example, it decides whether that example belongs to one or the other of two categories based on its similarity to previously seen examples.  \n",
    "\n",
    "A feature we have about each song is *the proportion of times a particular word appears in the lyrics*, and the categories are two music genres: hip-hop and country.  The algorithm requires many previously seen examples for which both the features and categories are known: that's the `train_lyrics` table.\n",
    "\n",
    "We're going to visualize the algorithm, instead of just describing it. To get started, let's pick colors for the genres."
   ]
  },
  {
   "cell_type": "code",
   "execution_count": 124,
   "metadata": {},
   "outputs": [],
   "source": [
    "# Just run this cell to define genre_color.\n",
    "\n",
    "def genre_color(genre):\n",
    "    \"\"\"Assign a color to each genre.\"\"\"\n",
    "    if genre == 'Country':\n",
    "        return 'gold'\n",
    "    elif genre == 'Hip-hop':\n",
    "        return 'blue'\n",
    "    else:\n",
    "        return 'green'"
   ]
  },
  {
   "cell_type": "markdown",
   "metadata": {},
   "source": [
    "## 2.1. Classifying a  song\n",
    "\n",
    "In k-NN, we classify a song by finding the `k` songs in the *training set* that are most similar according to the features we choose. We call those songs with similar features the \"neighbors\".  The k-NN algorithm assigns the song to the most common category among its `k` neighbors.\n",
    "\n",
    "Let's limit ourselves to just 2 features for now, so we can plot each song.  The features we will use are the proportions of the words \"like\" and \"love\" in the lyrics.  Taking the song \"In Your Eyes\" (in the test set), 0.0119 of its words are \"like\" and 0.0595 are \"love\". This song appears in the test set, so let's imagine that we don't yet know its genre.\n",
    "\n",
    "First, we need to make our notion of similarity more precise.  We will say that the *dissimilarity*, or *distance* between two songs is the straight-line distance between them when we plot their features in a scatter diagram. This distance is called the cosine distance.  \n",
    "\n",
    "For example, in the song *Insane in the Brain* (in the training set), 0.0203 of all the words in the song are \"like\" and 0 are \"love\".  Its distance from *In Your Eyes* on this 2-word feature set is $1-\\frac{((0.0119*0.0203) + (0.0595*0))}{ \\sqrt{0.0119^2 +0.0595^2} * \\sqrt{0.0203^2 + 0^2} } \\approx 0.20$.  (If we included more or different features, the distance could be different.)\n",
    "\n",
    "\n",
    "The function below creates a plot to display a test song and some training songs in a two-dimensional space defined by two features. As you can see in the result, *In Your Eyes* is more similar to *Sangria Wine* than to *Insane in the Brain*."
   ]
  },
  {
   "cell_type": "code",
   "execution_count": 125,
   "metadata": {},
   "outputs": [
    {
     "data": {
      "image/png": "[encoded data removed]",
      "text/plain": [
       "<Figure size 432x288 with 1 Axes>"
      ]
     },
     "metadata": {
      "needs_background": "light"
     },
     "output_type": "display_data"
    }
   ],
   "source": [
    "# Just run this cell.\n",
    "\n",
    "def plot_with_two_features(test_song, training_songs, x_feature, y_feature):\n",
    "    \"\"\"Plot a test song and training songs using two features.\"\"\"\n",
    "    test_row = row_for_title(test_song)\n",
    "    distances = pd.DataFrame({\n",
    "            x_feature: [test_row[x_feature]],\n",
    "            y_feature: [test_row[y_feature]],\n",
    "            'Color':   [genre_color('Unknown')],\n",
    "            'Title':   [test_song]\n",
    "        }\n",
    "    )\n",
    "    i=1\n",
    "    for song in training_songs:\n",
    "        row = row_for_title(song)\n",
    "        color = genre_color(row['Genre'])\n",
    "        distances.loc[i] = [row[x_feature], row[y_feature], color, song]\n",
    "        i = i+1\n",
    "    \n",
    "    distances.plot(x_feature, y_feature,kind=\"scatter\",c=\"Color\",s=200)\n",
    "    \n",
    "    \n",
    "training = [\"Sangria Wine\", \"Insane In The Brain\"]\n",
    "plot_with_two_features(\"In Your Eyes\", training, \"like\", \"love\")"
   ]
  },
  {
   "cell_type": "markdown",
   "metadata": {},
   "source": [
    "**Question 2.1.1. [4 Points]** Compute the Cosine distance between the two country songs, *Dixie Fried* and *Lonelier Than This* on the `['you', 'life','world',dream']` feature set"
   ]
  },
  {
   "cell_type": "code",
   "execution_count": 126,
   "metadata": {},
   "outputs": [
    {
     "data": {
      "text/plain": [
       "0.2928932188134524"
      ]
     },
     "execution_count": 126,
     "metadata": {},
     "output_type": "execute_result"
    }
   ],
   "source": [
    "dixie_fried = row_for_title(\"Dixie Fried\")\n",
    "lonelier_than_this = row_for_title(\"Lonelier Than This\")\n",
    "\n",
    "p1 = dixie_fried[\"you\"]*lonelier_than_this[\"you\"]\n",
    "p2 = dixie_fried[\"life\"]*lonelier_than_this[\"life\"]\n",
    "p3 = dixie_fried[\"world\"]*lonelier_than_this[\"world\"]\n",
    "p4 = dixie_fried[\"dream\"]*lonelier_than_this[\"dream\"]\n",
    "\n",
    "pa1 = (dixie_fried[\"you\"]**2 + dixie_fried[\"life\"]**2 + dixie_fried[\"world\"]**2 + dixie_fried[\"dream\"]**2)\n",
    "pa2 = (lonelier_than_this[\"you\"]**2+lonelier_than_this[\"life\"]**2+lonelier_than_this[\"world\"]**2+lonelier_than_this[\"dream\"]**2)\n",
    "country_distance = 1 - ((p1+p2+p3+p4)/((math.sqrt(pa1))*(math.sqrt(pa2))))\n",
    "\n",
    "country_distance"
   ]
  },
  {
   "cell_type": "markdown",
   "metadata": {},
   "source": [
    "**Question 2.1.2. [4 Points]** Complete the function `distance_four_features` that computes the Cosine distance between any two songs, using four features. The last two lines call the `distance_four_features` function  to show that *Lookin' for Love* is closer to *In Your Eyes* than *Insane In The Brain*. "
   ]
  },
  {
   "cell_type": "code",
   "execution_count": 127,
   "metadata": {},
   "outputs": [
    {
     "name": "stdout",
     "output_type": "stream",
     "text": [
      "Lookin' for Love distance:\t 0.15484574932822492\n",
      "Insane In The Brain distance:\t 0.057091941076588215\n"
     ]
    }
   ],
   "source": [
    "def distance_four_features(title0, title1, x1_feature, x2_feature,x3_feature,x4_feature):\n",
    "    title0 = row_for_title(title0)\n",
    "    title1 = row_for_title(title1)\n",
    "        \n",
    "    p1 = title0[x1_feature]*title1[x1_feature]\n",
    "    p2 = title0[x2_feature]*title1[x2_feature]\n",
    "    p3 = title0[x3_feature]*title1[x3_feature]\n",
    "    p4 = title0[x4_feature]*title1[x4_feature]\n",
    "    \n",
    "    pa1 = (title0[x1_feature]**2 + title0[x2_feature]**2 + title0[x3_feature]**2 + title0[x4_feature]**2)\n",
    "    pa2 = (title1[x1_feature]**2+title1[x2_feature]**2+title1[x3_feature]**2+title1[x4_feature]**2)\n",
    "    \n",
    "    return (1 - ((p1+p2+p3+p4)/((pa1*pa2)**0.5)))\n",
    "\n",
    "for song in [\"Lookin' for Love\", \"Insane In The Brain\"]:\n",
    "    song_distance = distance_four_features(song, \"In Your Eyes\", \"you\", \"life\",\"world\",\"dream\")\n",
    "    print(song, 'distance:\\t', song_distance)"
   ]
  },
  {
   "cell_type": "markdown",
   "metadata": {},
   "source": [
    "The nearest neighbor to a song is the example in the training set that has the smallest distance from that song."
   ]
  },
  {
   "cell_type": "markdown",
   "metadata": {},
   "source": [
    "**Question 2.1.3. [4 Points]** Define the higher-order function `distance_from` that takes a single song title and two features. It returns a function `for_song` that takes a second song title and computes the distance between the first and second songs.\n",
    "\n",
    "*Hint: Call `distance_two_features` in your solution rather than re-implementing its computation.*"
   ]
  },
  {
   "cell_type": "code",
   "execution_count": 128,
   "metadata": {
    "scrolled": true
   },
   "outputs": [
    {
     "data": {
      "text/plain": [
       "0.15484574932822492"
      ]
     },
     "execution_count": 128,
     "metadata": {},
     "output_type": "execute_result"
    }
   ],
   "source": [
    "def distance_from(title0, x1_feature, x2_feature,x3_feature,x4_feature):\n",
    "    def for_song(title1):\n",
    "        return distance_four_features(title0, title1, x1_feature, x2_feature,x3_feature,x4_feature)\n",
    "    return for_song\n",
    "\n",
    "distance_from_in_your_eyes = distance_from(\"In Your Eyes\", \"you\", \"life\",\"world\",\"dream\")\n",
    "distance_from_in_your_eyes(\"Lookin' for Love\")"
   ]
  },
  {
   "cell_type": "markdown",
   "metadata": {},
   "source": [
    "**Question 2.1.4. [6 Points]**  What are the names and genres of the 7 closest songs to \"You're Just a Country Boy\" in  `train_lyrics`, by Cosine distance for the 4 features \"you\", \"life\",\"world\", and \"dream\"?  To answer this question, make a table named `closest_songs` containing those 7 songs with columns \"Title\", \"Artist\", \"Genre\", \"you\", \"life\",\"world\", and \"dream\" from the `lyrics` table, as well as a column called `cosine_distance` that contains the distance from \"Raul Malo\" **sorted in ascending order**."
   ]
  },
  {
   "cell_type": "code",
   "execution_count": 129,
   "metadata": {},
   "outputs": [],
   "source": [
    "\"\"\"raulMaloSong = like_love[like_love[\"Artist\"] == \"Raul Malo\"][\"Title\"][3]\"\"\" #Raul Malo's song in train_lyrics\"\"\"\n",
    "def tempFunc(i):\n",
    "    t = distance_from(\"You're Just a Country Boy\", \"you\", \"life\",\"world\",\"dream\")\n",
    "    return t(i)\n",
    "   \n",
    "\n",
    "lyrics[\"cosine_distance\"] = lyrics[\"Title\"].apply(lambda x: tempFunc(x))\n",
    "temp = lyrics.sort_values(\"cosine_distance\", ascending = True)\n"
   ]
  },
  {
   "cell_type": "code",
   "execution_count": 130,
   "metadata": {},
   "outputs": [
    {
     "data": {
      "text/html": [
       "<div>\n",
       "<style scoped>\n",
       "    .dataframe tbody tr th:only-of-type {\n",
       "        vertical-align: middle;\n",
       "    }\n",
       "\n",
       "    .dataframe tbody tr th {\n",
       "        vertical-align: top;\n",
       "    }\n",
       "\n",
       "    .dataframe thead th {\n",
       "        text-align: right;\n",
       "    }\n",
       "</style>\n",
       "<table border=\"1\" class=\"dataframe\">\n",
       "  <thead>\n",
       "    <tr style=\"text-align: right;\">\n",
       "      <th></th>\n",
       "      <th>Title</th>\n",
       "      <th>Artist</th>\n",
       "      <th>Genre</th>\n",
       "      <th>you</th>\n",
       "      <th>life</th>\n",
       "      <th>world</th>\n",
       "      <th>dream</th>\n",
       "      <th>cosine_distance</th>\n",
       "    </tr>\n",
       "  </thead>\n",
       "  <tbody>\n",
       "    <tr>\n",
       "      <th>860</th>\n",
       "      <td>Let Her In</td>\n",
       "      <td>Vince Gill</td>\n",
       "      <td>Country</td>\n",
       "      <td>0.044248</td>\n",
       "      <td>0.0</td>\n",
       "      <td>0.0</td>\n",
       "      <td>0.0</td>\n",
       "      <td>-2.220446e-16</td>\n",
       "    </tr>\n",
       "    <tr>\n",
       "      <th>1087</th>\n",
       "      <td>Every Time You Say Goodbye</td>\n",
       "      <td>Alison Krauss &amp; Union Station</td>\n",
       "      <td>Country</td>\n",
       "      <td>0.038278</td>\n",
       "      <td>0.0</td>\n",
       "      <td>0.0</td>\n",
       "      <td>0.0</td>\n",
       "      <td>-2.220446e-16</td>\n",
       "    </tr>\n",
       "    <tr>\n",
       "      <th>569</th>\n",
       "      <td>Two-Step 'Round The Christmas Tree</td>\n",
       "      <td>Suzy Bogguss</td>\n",
       "      <td>Country</td>\n",
       "      <td>0.011719</td>\n",
       "      <td>0.0</td>\n",
       "      <td>0.0</td>\n",
       "      <td>0.0</td>\n",
       "      <td>-2.220446e-16</td>\n",
       "    </tr>\n",
       "    <tr>\n",
       "      <th>753</th>\n",
       "      <td>Still Tippin</td>\n",
       "      <td>Slim Thug</td>\n",
       "      <td>Hip-hop</td>\n",
       "      <td>0.005405</td>\n",
       "      <td>0.0</td>\n",
       "      <td>0.0</td>\n",
       "      <td>0.0</td>\n",
       "      <td>-2.220446e-16</td>\n",
       "    </tr>\n",
       "    <tr>\n",
       "      <th>566</th>\n",
       "      <td>I Will Follow You Into The Dark (Live Death Ca...</td>\n",
       "      <td>Amy Millan</td>\n",
       "      <td>Country</td>\n",
       "      <td>0.044248</td>\n",
       "      <td>0.0</td>\n",
       "      <td>0.0</td>\n",
       "      <td>0.0</td>\n",
       "      <td>-2.220446e-16</td>\n",
       "    </tr>\n",
       "    <tr>\n",
       "      <th>405</th>\n",
       "      <td>Make-Up</td>\n",
       "      <td>Amanda Blank</td>\n",
       "      <td>Hip-hop</td>\n",
       "      <td>0.046875</td>\n",
       "      <td>0.0</td>\n",
       "      <td>0.0</td>\n",
       "      <td>0.0</td>\n",
       "      <td>-2.220446e-16</td>\n",
       "    </tr>\n",
       "    <tr>\n",
       "      <th>1555</th>\n",
       "      <td>Give It To You</td>\n",
       "      <td>G. Love</td>\n",
       "      <td>Hip-hop</td>\n",
       "      <td>0.083871</td>\n",
       "      <td>0.0</td>\n",
       "      <td>0.0</td>\n",
       "      <td>0.0</td>\n",
       "      <td>-2.220446e-16</td>\n",
       "    </tr>\n",
       "  </tbody>\n",
       "</table>\n",
       "</div>"
      ],
      "text/plain": [
       "                                                  Title  \\\n",
       "860                                          Let Her In   \n",
       "1087                         Every Time You Say Goodbye   \n",
       "569                  Two-Step 'Round The Christmas Tree   \n",
       "753                                        Still Tippin   \n",
       "566   I Will Follow You Into The Dark (Live Death Ca...   \n",
       "405                                             Make-Up   \n",
       "1555                                     Give It To You   \n",
       "\n",
       "                             Artist    Genre       you  life  world  dream  \\\n",
       "860                      Vince Gill  Country  0.044248   0.0    0.0    0.0   \n",
       "1087  Alison Krauss & Union Station  Country  0.038278   0.0    0.0    0.0   \n",
       "569                    Suzy Bogguss  Country  0.011719   0.0    0.0    0.0   \n",
       "753                       Slim Thug  Hip-hop  0.005405   0.0    0.0    0.0   \n",
       "566                      Amy Millan  Country  0.044248   0.0    0.0    0.0   \n",
       "405                    Amanda Blank  Hip-hop  0.046875   0.0    0.0    0.0   \n",
       "1555                        G. Love  Hip-hop  0.083871   0.0    0.0    0.0   \n",
       "\n",
       "      cosine_distance  \n",
       "860     -2.220446e-16  \n",
       "1087    -2.220446e-16  \n",
       "569     -2.220446e-16  \n",
       "753     -2.220446e-16  \n",
       "566     -2.220446e-16  \n",
       "405     -2.220446e-16  \n",
       "1555    -2.220446e-16  "
      ]
     },
     "execution_count": 130,
     "metadata": {},
     "output_type": "execute_result"
    }
   ],
   "source": [
    "temp = temp[[\"Title\", \"Artist\", \"Genre\", \"you\", \"life\",\"world\",  \"dream\", \"cosine_distance\"]]\n",
    "closest_songs =temp.head(7)\n",
    "closest_songs"
   ]
  },
  {
   "cell_type": "markdown",
   "metadata": {},
   "source": [
    "**Question 2.1.5. [6 Points]** Write a function `most_common` that takes a `column_label` and a `table`. It returns the most common value in that column of that table. In case of a tie, it can return any of the most common values."
   ]
  },
  {
   "cell_type": "code",
   "execution_count": 131,
   "metadata": {},
   "outputs": [
    {
     "data": {
      "text/plain": [
       "'Country'"
      ]
     },
     "execution_count": 131,
     "metadata": {},
     "output_type": "execute_result"
    }
   ],
   "source": [
    "def most_common(column_label, table):\n",
    "    return table[column_label].mode()[0]\n",
    "most_common('Genre', closest_songs)"
   ]
  },
  {
   "cell_type": "markdown",
   "metadata": {},
   "source": [
    "Congratulations are in order -- you've classified your first song!"
   ]
  },
  {
   "cell_type": "markdown",
   "metadata": {},
   "source": [
    "# 3. Features"
   ]
  },
  {
   "cell_type": "markdown",
   "metadata": {},
   "source": [
    "Now, we're going to extend our classifier to consider more than four features at a time."
   ]
  },
  {
   "cell_type": "markdown",
   "metadata": {},
   "source": [
    "**Question 3.1. [4 Points]** Write a function to compute the Cosine distance between two *arrays* of features of *arbitrary* (but equal) length.  Use it to compute the distance between the first song in the training set and the first song in the test set, *using all of the features*.  (Remember that the title, artist, and genre of the songs are not features.)"
   ]
  },
  {
   "cell_type": "code",
   "execution_count": 132,
   "metadata": {},
   "outputs": [
    {
     "data": {
      "text/plain": [
       "0.4964655394894052"
      ]
     },
     "execution_count": 132,
     "metadata": {},
     "output_type": "execute_result"
    }
   ],
   "source": [
    "def distance(features1, features2):\n",
    "    sumxx, sumxy, sumyy = 0, 0, 0\n",
    "    for i in range(len(features1)):\n",
    "        x = features1[i]; y = features2[i];\n",
    "        sumxx += x*x\n",
    "        sumyy += y*y\n",
    "        sumxy += x*y\n",
    "    return sumxy/math.sqrt(sumxx*sumyy) \n",
    "\n",
    "train_features = train_lyrics.drop([\"Artist\",\"Title\",\"Genre\"], axis =1).iloc[0].array\n",
    "test_features = test_lyrics.drop([\"Artist\",\"Title\",\"Genre\"], axis =1).iloc[0].array\n",
    "\n",
    "distance_first_to_first = distance(train_features,test_features)\n",
    "distance_first_to_first"
   ]
  },
  {
   "cell_type": "markdown",
   "metadata": {},
   "source": [
    "## 3.1. Creating your own feature set\n",
    "\n",
    "Unfortunately, using all of the features has some downsides.  We'll explore that more later, but one clear downside is *computational* -- computing Cosine distances just takes a long time when we have lots of features.  So we're going to select just 25 for now.  We'd like to choose features that are very *discriminative*, that is, which lead us to correctly classify as much of the test set as possible.  This process of choosing features that will make a classifier work well is sometimes called *feature selection*, or more broadly *feature engineering*.\n",
    "\n",
    "**Question 3.1.1. [4 Points]** Look through the list of features (the labels of the `lyrics` table after the first three).  Choose 25 that you think will let you distinguish pretty well between country and hip-hop songs.  You might want to come back to this question later to improve your list, once you've seen how to evaluate your classifier.  The first time you do this question, spend some time looking through the features, but not more than 15 minutes."
   ]
  },
  {
   "cell_type": "code",
   "execution_count": 133,
   "metadata": {},
   "outputs": [
    {
     "data": {
      "text/plain": [
       "Index(['Title', 'Artist', 'Genre', 'i', 'the', 'you', 'to', 'and', 'a', 'me',\n",
       "       ...\n",
       "       'writer', 'motivo', 'bake', 'insist', 'wel', 'santo', 'pe', 'gee',\n",
       "       'colleg', 'kad'],\n",
       "      dtype='object', length=4979)"
      ]
     },
     "execution_count": 133,
     "metadata": {},
     "output_type": "execute_result"
    }
   ],
   "source": [
    "lyrics = lyrics.drop([\"cosine_distance\"],axis = 1)\n",
    "lyrics.columns"
   ]
  },
  {
   "cell_type": "code",
   "execution_count": 134,
   "metadata": {},
   "outputs": [],
   "source": [
    "# Set my_25_features to a list of 25 features (strings that are column labels)\n",
    "def insertionSort(arr):\n",
    "     for i in range(1, len(arr)):\n",
    "        key = arr[i]\n",
    "        j = i-1\n",
    "        while j >= 0 and key[1] < arr[j][1] :\n",
    "                arr[j + 1] = arr[j]\n",
    "                j -= 1\n",
    "        arr[j + 1] = key\n",
    "        \n",
    "col = lyrics.columns\n",
    "tempFreq = []\n",
    "tempDf = lyrics.groupby(\"Genre\").sum()\n",
    "k = 0\n",
    "j = 0\n",
    "for i in col[3:]:\n",
    "    if len(tempFreq) < 25:\n",
    "        tempFreq.append([i,abs(tempDf[i][0]-tempDf[i][1])])\n",
    "    if (tempDf[i][0] == 0 or tempDf[i][1] == 0):\n",
    "        j+=1\n",
    "        continue\n",
    "    k+=1\n",
    "    temp = abs(tempDf[i][0]-tempDf[i][1])\n",
    "    insertionSort(tempFreq)\n",
    "    if len(tempFreq) >= 25:\n",
    "        for j in range(25):\n",
    "            if temp > tempFreq[j][1]:\n",
    "                tempFreq[j] = [i,temp]\n",
    "                break \n",
    "\n",
    "my_25_features = []\n",
    "for i in tempFreq:\n",
    "    my_25_features.append(i[0])\n",
    "    \n",
    "train_25 = train_lyrics[my_25_features]\n",
    "test_25 = test_lyrics[my_25_features]"
   ]
  },
  {
   "cell_type": "markdown",
   "metadata": {},
   "source": [
    "**Question 3.1.2 [4 Points]** In a few sentences, describe how you selected your features. "
   ]
  },
  {
   "cell_type": "markdown",
   "metadata": {},
   "source": [
    "**Answer : I chose these features according to the difference in the amount of usage in country and hip-hop.**"
   ]
  },
  {
   "cell_type": "markdown",
   "metadata": {},
   "source": [
    "Next, let's classify the first song from our test set using these features.  You can examine the song by running the cells below. Do you think it will be classified correctly?"
   ]
  },
  {
   "cell_type": "code",
   "execution_count": 135,
   "metadata": {
    "scrolled": true
   },
   "outputs": [
    {
     "data": {
      "text/plain": [
       "Title     Put 'Em On The Glass\n",
       "Artist           Sir Mix-A-Lot\n",
       "Genre                  Hip-hop\n",
       "Name: 1397, dtype: object"
      ]
     },
     "execution_count": 135,
     "metadata": {},
     "output_type": "execute_result"
    }
   ],
   "source": [
    "test_lyrics.iloc[0][['Title', 'Artist', 'Genre']]"
   ]
  },
  {
   "cell_type": "markdown",
   "metadata": {},
   "source": [
    "**Question 3.1.3 [6 Points]**  As before, we want to look for the songs in the training set that are most alike our test song.  We will calculate the Cosine distances from the test song (using the 25 selected features) to all songs in the training set. Define `distances` function to do this. "
   ]
  },
  {
   "cell_type": "code",
   "execution_count": 136,
   "metadata": {},
   "outputs": [],
   "source": [
    "import warnings\n",
    "warnings.filterwarnings(\"ignore\")\n",
    "\n",
    "def distance_features(title0, title1, feature_list):\n",
    "    title0 = row_for_title(title0)\n",
    "    title1 = row_for_title(title1)\n",
    "    \n",
    "    pay = 0\n",
    "    payda1 = 0\n",
    "    payda2 = 0\n",
    "    \n",
    "    for i in feature_list:\n",
    "        pay+=title0[i]*title1[i]\n",
    "        payda1+=title0[i]**2\n",
    "        payda2+=title1[i]**2\n",
    "        \n",
    "    return (1 - (pay/((payda1*payda2)**0.5))) \n",
    "\n",
    "\n",
    "def distances(test_row, train_rows):\n",
    "    distances = []\n",
    "    for j in train_rows:\n",
    "            distances.append(distance_features(test_row,j,my_25_features))\n",
    "    return pd.DataFrame({\n",
    "        \"Title\" : train_rows,\n",
    "        \"Distances\" : distances\n",
    "    })\n",
    "    "
   ]
  },
  {
   "cell_type": "markdown",
   "metadata": {},
   "source": [
    "**Question 3.1.4. [6 Points]** Use the `distances` function provided above to compute the distance of the first song in the test set to all the songs in the training set.  Make a new table called `genre_and_distances` with one row for each song in the training set and two columns:\n",
    "* The `\"Genre\"` of the training song\n",
    "* The `\"Distance\"` from the first song in the test set \n",
    "\n",
    "Ensure that `genre_and_distances` is **sorted by increasing distance to the first test song**."
   ]
  },
  {
   "cell_type": "code",
   "execution_count": 178,
   "metadata": {},
   "outputs": [
    {
     "data": {
      "text/html": [
       "<div>\n",
       "<style scoped>\n",
       "    .dataframe tbody tr th:only-of-type {\n",
       "        vertical-align: middle;\n",
       "    }\n",
       "\n",
       "    .dataframe tbody tr th {\n",
       "        vertical-align: top;\n",
       "    }\n",
       "\n",
       "    .dataframe thead th {\n",
       "        text-align: right;\n",
       "    }\n",
       "</style>\n",
       "<table border=\"1\" class=\"dataframe\">\n",
       "  <thead>\n",
       "    <tr style=\"text-align: right;\">\n",
       "      <th></th>\n",
       "      <th>Distances</th>\n",
       "      <th>Genre</th>\n",
       "    </tr>\n",
       "    <tr>\n",
       "      <th>Title</th>\n",
       "      <th></th>\n",
       "      <th></th>\n",
       "    </tr>\n",
       "  </thead>\n",
       "  <tbody>\n",
       "    <tr>\n",
       "      <th>Bring The Pain</th>\n",
       "      <td>0.022775</td>\n",
       "      <td>Hip-hop</td>\n",
       "    </tr>\n",
       "    <tr>\n",
       "      <th>In The Oaktown</th>\n",
       "      <td>0.028187</td>\n",
       "      <td>Hip-hop</td>\n",
       "    </tr>\n",
       "    <tr>\n",
       "      <th>Showtime At The Gallow</th>\n",
       "      <td>0.028715</td>\n",
       "      <td>Hip-hop</td>\n",
       "    </tr>\n",
       "    <tr>\n",
       "      <th>Testarossa</th>\n",
       "      <td>0.028818</td>\n",
       "      <td>Hip-hop</td>\n",
       "    </tr>\n",
       "    <tr>\n",
       "      <th>Show Me What You Got</th>\n",
       "      <td>0.028993</td>\n",
       "      <td>Hip-hop</td>\n",
       "    </tr>\n",
       "    <tr>\n",
       "      <th>...</th>\n",
       "      <td>...</td>\n",
       "      <td>...</td>\n",
       "    </tr>\n",
       "    <tr>\n",
       "      <th>Entre les mots : du local au global</th>\n",
       "      <td>1.000000</td>\n",
       "      <td>Hip-hop</td>\n",
       "    </tr>\n",
       "    <tr>\n",
       "      <th>Regarde</th>\n",
       "      <td>1.000000</td>\n",
       "      <td>Hip-hop</td>\n",
       "    </tr>\n",
       "    <tr>\n",
       "      <th>Playing With Fire</th>\n",
       "      <td>0.000000</td>\n",
       "      <td>Country</td>\n",
       "    </tr>\n",
       "    <tr>\n",
       "      <th>Hammerhart</th>\n",
       "      <td>0.000000</td>\n",
       "      <td>Hip-hop</td>\n",
       "    </tr>\n",
       "    <tr>\n",
       "      <th>El extranjero</th>\n",
       "      <td>0.000000</td>\n",
       "      <td>Hip-hop</td>\n",
       "    </tr>\n",
       "  </tbody>\n",
       "</table>\n",
       "<p>1075 rows × 2 columns</p>\n",
       "</div>"
      ],
      "text/plain": [
       "                                     Distances    Genre\n",
       "Title                                                  \n",
       "Bring The Pain                        0.022775  Hip-hop\n",
       "In The Oaktown                        0.028187  Hip-hop\n",
       "Showtime At The Gallow                0.028715  Hip-hop\n",
       "Testarossa                            0.028818  Hip-hop\n",
       "Show Me What You Got                  0.028993  Hip-hop\n",
       "...                                        ...      ...\n",
       "Entre les mots : du local au global   1.000000  Hip-hop\n",
       "Regarde                               1.000000  Hip-hop\n",
       "Playing With Fire                     0.000000  Country\n",
       "Hammerhart                            0.000000  Hip-hop\n",
       "El extranjero                         0.000000  Hip-hop\n",
       "\n",
       "[1075 rows x 2 columns]"
      ]
     },
     "execution_count": 178,
     "metadata": {},
     "output_type": "execute_result"
    }
   ],
   "source": [
    "temp = distances(test_lyrics[\"Title\"].values[0], train_lyrics[\"Title\"].values)\n",
    "temp[\"Genre\"] = train_lyrics[\"Genre\"].values\n",
    "genre_and_distances = temp.sort_values(\"Distances\").set_index(\"Title\")\n",
    "      \n",
    "genre_and_distances = genre_and_distances.fillna(0)\n",
    "genre_and_distances"
   ]
  },
  {
   "cell_type": "markdown",
   "metadata": {},
   "source": [
    "**Question 3.1.5. [8 Points]**  Now compute the 7-nearest neighbors classification of the second song in the test set.  That is, decide on its genre by finding the most common genre among its 7 nearest neighbors, according to the distances you've calculated.  Then check whether your classifier chose the right genre.  (Depending on the features you chose, your classifier might not get this song right, and that's okay.)"
   ]
  },
  {
   "cell_type": "code",
   "execution_count": 140,
   "metadata": {},
   "outputs": [
    {
     "data": {
      "text/html": [
       "<div>\n",
       "<style scoped>\n",
       "    .dataframe tbody tr th:only-of-type {\n",
       "        vertical-align: middle;\n",
       "    }\n",
       "\n",
       "    .dataframe tbody tr th {\n",
       "        vertical-align: top;\n",
       "    }\n",
       "\n",
       "    .dataframe thead th {\n",
       "        text-align: right;\n",
       "    }\n",
       "</style>\n",
       "<table border=\"1\" class=\"dataframe\">\n",
       "  <thead>\n",
       "    <tr style=\"text-align: right;\">\n",
       "      <th></th>\n",
       "      <th>Distances</th>\n",
       "      <th>Genre</th>\n",
       "    </tr>\n",
       "    <tr>\n",
       "      <th>Title</th>\n",
       "      <th></th>\n",
       "      <th></th>\n",
       "    </tr>\n",
       "  </thead>\n",
       "  <tbody>\n",
       "    <tr>\n",
       "      <th>Kick A Little (Album Version)</th>\n",
       "      <td>0.074628</td>\n",
       "      <td>Country</td>\n",
       "    </tr>\n",
       "    <tr>\n",
       "      <th>Baby Mine</th>\n",
       "      <td>0.077776</td>\n",
       "      <td>Country</td>\n",
       "    </tr>\n",
       "    <tr>\n",
       "      <th>Waiting</th>\n",
       "      <td>0.086178</td>\n",
       "      <td>Hip-hop</td>\n",
       "    </tr>\n",
       "    <tr>\n",
       "      <th>Naked In The Rain</th>\n",
       "      <td>0.093946</td>\n",
       "      <td>Country</td>\n",
       "    </tr>\n",
       "    <tr>\n",
       "      <th>Dip It Low</th>\n",
       "      <td>0.102532</td>\n",
       "      <td>Hip-hop</td>\n",
       "    </tr>\n",
       "    <tr>\n",
       "      <th>The World</th>\n",
       "      <td>0.113977</td>\n",
       "      <td>Country</td>\n",
       "    </tr>\n",
       "    <tr>\n",
       "      <th>Stand!</th>\n",
       "      <td>0.119889</td>\n",
       "      <td>Hip-hop</td>\n",
       "    </tr>\n",
       "  </tbody>\n",
       "</table>\n",
       "</div>"
      ],
      "text/plain": [
       "                               Distances    Genre\n",
       "Title                                            \n",
       "Kick A Little (Album Version)   0.074628  Country\n",
       "Baby Mine                       0.077776  Country\n",
       "Waiting                         0.086178  Hip-hop\n",
       "Naked In The Rain               0.093946  Country\n",
       "Dip It Low                      0.102532  Hip-hop\n",
       "The World                       0.113977  Country\n",
       "Stand!                          0.119889  Hip-hop"
      ]
     },
     "execution_count": 140,
     "metadata": {},
     "output_type": "execute_result"
    }
   ],
   "source": [
    "temp2 = distances(test_lyrics[\"Title\"].values[1], train_lyrics[\"Title\"].values)\n",
    "temp2[\"Genre\"] = train_lyrics[\"Genre\"]\n",
    "temp2 = temp2.sort_values(\"Distances\")\n",
    "seven_neighbors = temp2.set_index(\"Title\").head(7)\n",
    "seven_neighbors"
   ]
  },
  {
   "cell_type": "code",
   "execution_count": 141,
   "metadata": {},
   "outputs": [
    {
     "name": "stdout",
     "output_type": "stream",
     "text": [
      "The assigned genre Country was correct... True\n"
     ]
    }
   ],
   "source": [
    "my_assigned_genre = seven_neighbors[\"Genre\"].mode()[0]\n",
    "my_assigned_genre_was_correct = my_assigned_genre==test_lyrics[\"Genre\"].iloc[1]\n",
    "print(\"The assigned genre\", my_assigned_genre, \"was correct...\", my_assigned_genre_was_correct )"
   ]
  },
  {
   "cell_type": "code",
   "execution_count": 142,
   "metadata": {},
   "outputs": [
    {
     "name": "stdout",
     "output_type": "stream",
     "text": [
      "Classifier found the genre correctly!\n"
     ]
    }
   ],
   "source": [
    "if seven_neighbors[\"Genre\"].mode()[0] == test_lyrics[\"Genre\"].values[1]:\n",
    "    print(\"Classifier found the genre correctly!\")\n",
    "else:\n",
    "    print(\"Classifier found the genre incorrectly!\")"
   ]
  },
  {
   "cell_type": "markdown",
   "metadata": {},
   "source": [
    "## 3.2. A classifier function"
   ]
  },
  {
   "cell_type": "markdown",
   "metadata": {},
   "source": [
    "Now it's time to write a single function that encapsulates this whole process of classification.\n",
    "\n",
    "**Question 3.2.1. [8 Points]** Write a function called `classify`.  It should take the following arguments:\n",
    "* An array of features for a song to classify (e.g., `test_25.row(0)`),\n",
    "* A table with a column for each feature (for example, `train_25`)\n",
    "* An array of classes that has as many items as the previous table has rows, and in the same order, and\n",
    "* `k`, the number of neighbors to use in classification.\n",
    "\n",
    "It should return the class your classifier picks for the given row of features (e.g., `'Country'` or `'Hip-hop'`). "
   ]
  },
  {
   "cell_type": "code",
   "execution_count": 184,
   "metadata": {},
   "outputs": [],
   "source": [
    "#Sor. Bizim classify test tablosu, train tablosu, features \n",
    "def classify(test_row, train_rows, train_classes, k):\n",
    "    Genre = train_rows[\"Genre\"]\n",
    "    test_row = test_row[train_classes]\n",
    "    train_rows = train_rows[train_classes]\n",
    "    test_values = test_row.values\n",
    "    dist = []\n",
    "    \n",
    "    for i in range(train_rows.shape[0]):\n",
    "        train_values = train_rows.iloc[i].values\n",
    "        pay = 0\n",
    "        payda1 = 0\n",
    "        payda2 = 0\n",
    "\n",
    "        for j in range(len(train_classes)):\n",
    "            pay+=test_values[j]*train_values[j] \n",
    "            payda1+=test_values[j]**2\n",
    "            payda2+=train_values[j]**2\n",
    "        dist.append((1 - (pay/((payda1*payda2)**0.5))))\n",
    "        \n",
    "    temp_df =  pd.DataFrame({\n",
    "        \"Distances\" : dist,\n",
    "        \"Genre\" : Genre\n",
    "    })\n",
    "    temp_df = temp_df.sort_values(\"Distances\")\n",
    "    return temp_df.head(k)[\"Genre\"].mode()[0]\n",
    "    "
   ]
  },
  {
   "cell_type": "code",
   "execution_count": 185,
   "metadata": {},
   "outputs": [
    {
     "data": {
      "text/plain": [
       "'Country'"
      ]
     },
     "execution_count": 185,
     "metadata": {},
     "output_type": "execute_result"
    }
   ],
   "source": [
    "classify(test_lyrics.iloc[1],train_lyrics,my_25_features,7)"
   ]
  },
  {
   "cell_type": "markdown",
   "metadata": {},
   "source": [
    "**Question 3.2.2. [4 Points]** Assign `guitar_genre` to the genre predicted by your classifier for the song  \"Guitar Town\" in the test set, using 7 neigbors."
   ]
  },
  {
   "cell_type": "code",
   "execution_count": 145,
   "metadata": {
    "scrolled": true
   },
   "outputs": [
    {
     "data": {
      "text/plain": [
       "'Hip-hop'"
      ]
     },
     "execution_count": 145,
     "metadata": {},
     "output_type": "execute_result"
    }
   ],
   "source": [
    "#Kontrol Et çünkü orijinali Country \n",
    "temp_test_lyrics = test_lyrics.set_index(\"Title\")\n",
    "guitar_genre = classify(temp_test_lyrics.loc[\"Guitar Town\"],train_lyrics,my_25_features,7)\n",
    "guitar_genre"
   ]
  },
  {
   "cell_type": "markdown",
   "metadata": {},
   "source": [
    "**Question 3.2.3 [6 Points]** To simplify things further, use the higher-order function `classify_using` that takes `train_rows`, `train_classes`, and `k` to define a function `simple_classify`. The `simple_classify` function should take just one argument, a test row, and return the predicted genre of a song using `train_25` and seven neighbors (`k` of 7).  This way, when we classify a song, we just have to pass in the song's features, not the whole training set.  "
   ]
  },
  {
   "cell_type": "code",
   "execution_count": 146,
   "metadata": {},
   "outputs": [
    {
     "data": {
      "text/plain": [
       "'Hip-hop'"
      ]
     },
     "execution_count": 146,
     "metadata": {},
     "output_type": "execute_result"
    }
   ],
   "source": [
    "def classify_using(train_rows, train_classes, k):\n",
    "    def for_row(test_row):\n",
    "        return classify(test_row, train_rows, train_classes, k)\n",
    "    return for_row\n",
    "\n",
    "def simple_classify(test_row):\n",
    "    classifer = classify_using(train_lyrics,my_25_features,7)\n",
    "    return classifer(test_row)\n",
    "    \n",
    "\n",
    "simple_classify(test_25.iloc[0])"
   ]
  },
  {
   "cell_type": "markdown",
   "metadata": {},
   "source": [
    "## 3.3. Evaluating your classifier"
   ]
  },
  {
   "cell_type": "markdown",
   "metadata": {},
   "source": [
    "Now that it's easy to use the classifier, let's see how accurate it is on the whole test set.\n",
    "\n",
    "**Question 3.3.1. [8 Points]** Classify every song in the test set (provided), then compute the proportion of correct classifications. "
   ]
  },
  {
   "cell_type": "code",
   "execution_count": 147,
   "metadata": {},
   "outputs": [],
   "source": [
    "classified = []\n",
    "for i in range(test_lyrics.shape[0]):\n",
    "    classified.append(simple_classify(test_lyrics.iloc[i]))\n",
    "    \n",
    "\n",
    "test_lyrics[\"Classified\"] = classified\n",
    "\n"
   ]
  },
  {
   "cell_type": "code",
   "execution_count": 155,
   "metadata": {},
   "outputs": [
    {
     "data": {
      "text/plain": [
       "0.6820987654320988"
      ]
     },
     "execution_count": 155,
     "metadata": {},
     "output_type": "execute_result"
    }
   ],
   "source": [
    "num = 0\n",
    "for i in range(test_lyrics.shape[0]):\n",
    "    if test_lyrics[\"Genre\"].values[i] == test_lyrics[\"Classified\"].values[i]:\n",
    "        num+=1\n",
    "\n",
    "test_lyrics = test_lyrics.drop(\"Classified\",axis = 1)\n",
    "proportion_correct = num/test_lyrics.shape[0]\n",
    "proportion_correct"
   ]
  },
  {
   "cell_type": "markdown",
   "metadata": {},
   "source": [
    "At this point, you've gone through one cycle of classifier design.  Let's summarize the steps:\n",
    "1. From available data, select test and training sets.\n",
    "2. Choose an algorithm you're going to use for classification.\n",
    "3. Identify some features.\n",
    "4. Define a classifier function using your features and the training set.\n",
    "5. Evaluate its performance (the proportion of correct classifications) on the test set.\n",
    "\n",
    "In practice, if the performance is good enough for your application, you might be done. In this case, we might be able to do better by focusing on step 3."
   ]
  },
  {
   "cell_type": "markdown",
   "metadata": {},
   "source": [
    "# 4. Feature design\n",
    "\n",
    "One way to interpret the accuracy of a classifier is to compare it to another classifier."
   ]
  },
  {
   "cell_type": "markdown",
   "metadata": {},
   "source": [
    "**Question 4.1. [10 Points]** Below we've provided 10 features selected by the staff.  Build a 11-nearest-neighbor classifier using these features and compute its accuracy on the test set. (You can write any code you want, as long as `proportion_correct_staff` is computed correctly; the other names are only suggestions.)"
   ]
  },
  {
   "cell_type": "code",
   "execution_count": 157,
   "metadata": {},
   "outputs": [
    {
     "data": {
      "text/plain": [
       "0.6666666666666666"
      ]
     },
     "execution_count": 157,
     "metadata": {},
     "output_type": "execute_result"
    }
   ],
   "source": [
    "features_staff = [\"come\", \"do\", \"love\", \"like\", \"make\", \"never\", \"now\", \"wanna\", \"with\", \"yo\"]\n",
    "\n",
    "def classify_using(train_rows, features, k):\n",
    "    def for_row(test_row):\n",
    "        return classify(test_row, train_rows, features, k)\n",
    "    return for_row\n",
    "\n",
    "def simple_classify2(test_row):\n",
    "    classifer = classify_using(train_lyrics,features_staff,11)\n",
    "    return classifer(test_row)\n",
    "\n",
    "classified = []\n",
    "for i in range(test_lyrics.shape[0]):\n",
    "    classified.append(simple_classify2(test_lyrics.iloc[i]))\n",
    "    \n",
    "\n",
    "test_lyrics[\"Classified\"] = classified\n",
    "\n",
    "num = 0\n",
    "for i in range(test_lyrics.shape[0]):\n",
    "    if test_lyrics[\"Genre\"].values[i] == test_lyrics[\"Classified\"].values[i]:\n",
    "        num+=1\n",
    "\n",
    "proportion_correct_staff = num/test_lyrics.shape[0]\n",
    "proportion_correct_staff"
   ]
  },
  {
   "cell_type": "markdown",
   "metadata": {},
   "source": [
    "**Question 4.2. [4 Points]** Are the features you chose better or worse than the staff features at classifying the test set? Why do you think this is so?"
   ]
  },
  {
   "cell_type": "markdown",
   "metadata": {},
   "source": [
    "**Answer : The features I chose have slightly better accuracy values.**"
   ]
  },
  {
   "cell_type": "markdown",
   "metadata": {},
   "source": [
    "**Question 4.3. [6 Points]** Is there anything random about a classifier's accuracy measured in this way?  Is it possible that the difference in classifier performance is due to chance?  If so, describe (in 2-3 sentences) how you would investigate that."
   ]
  },
  {
   "cell_type": "markdown",
   "metadata": {},
   "source": [
    "**Answer : Random generation of Train and Test tables is the only factor that creates randomness. If the Test and Train tables are also randomly generated many times and the accuracy value is calculated, the result will be within a confidence interval. So randomness has an effect, but it's very low.**"
   ]
  },
  {
   "cell_type": "markdown",
   "metadata": {},
   "source": [
    "## 4.1. Feature selection"
   ]
  },
  {
   "cell_type": "markdown",
   "metadata": {},
   "source": [
    "What happens if we use only use a subset of the staff features? Is there a single feature that's better than the rest? Can removing features improve our classifier? Does removing features always hurt? If so, does removing different features degrade accuracy by different amounts?\n",
    "\n",
    "As soon as you begin comparing the performance of many different classifiers, searching for the best one, it is important to conduct that search on the *validation set* rather than the *test set*. Conventionally, the test set is used for evaluation of methods. The validation set is used to select exactly how a method is applied, such as choosing a set of features or a value for `k`.  The validation set is called `valid_lyrics`."
   ]
  },
  {
   "cell_type": "markdown",
   "metadata": {},
   "source": [
    "**Question 4.1.1. [8 Points]** Define a higher-order function `accuracy_on` that takes an evaluation set, either `valid_lyrics` or `test_lyrics`. It returns a function that takes a feature list and a value for `k`, and returns the accuracy (proprotion correct) of a `k`-NN classifier on the evaluation set using those features."
   ]
  },
  {
   "cell_type": "code",
   "execution_count": 161,
   "metadata": {},
   "outputs": [
    {
     "data": {
      "text/plain": [
       "0.515527950310559"
      ]
     },
     "execution_count": 161,
     "metadata": {},
     "output_type": "execute_result"
    }
   ],
   "source": [
    "def accuracy_on(evaluation_set):\n",
    "    def accuracy(features, k):\n",
    "        classified = []\n",
    "        for i in range(evaluation_set.shape[0]):\n",
    "            classified.append(classify(evaluation_set.iloc[i], train_lyrics, features, k))\n",
    "\n",
    "        evaluation_set[\"Classified\"] = classified\n",
    "\n",
    "        num = 0\n",
    "        for i in range(evaluation_set.shape[0]):\n",
    "            if evaluation_set[\"Genre\"].values[i] == test_lyrics[\"Classified\"].values[i]:\n",
    "                num+=1\n",
    "        return num/evaluation_set.shape[0]\n",
    "    return accuracy\n",
    "\n",
    "valid_accuracy = accuracy_on(valid_lyrics)\n",
    "valid_accuracy(features_staff, 5)"
   ]
  },
  {
   "cell_type": "markdown",
   "metadata": {},
   "source": [
    "**Question 4.1.2.[6 Points]** Create a two-column table `single_feature_accuracies` that shows the accuracy on the validation set using 7 neighbors and only a single feature. Include a row for every feature in `features_staff`."
   ]
  },
  {
   "cell_type": "code",
   "execution_count": 192,
   "metadata": {},
   "outputs": [
    {
     "data": {
      "text/html": [
       "<div>\n",
       "<style scoped>\n",
       "    .dataframe tbody tr th:only-of-type {\n",
       "        vertical-align: middle;\n",
       "    }\n",
       "\n",
       "    .dataframe tbody tr th {\n",
       "        vertical-align: top;\n",
       "    }\n",
       "\n",
       "    .dataframe thead th {\n",
       "        text-align: right;\n",
       "    }\n",
       "</style>\n",
       "<table border=\"1\" class=\"dataframe\">\n",
       "  <thead>\n",
       "    <tr style=\"text-align: right;\">\n",
       "      <th></th>\n",
       "      <th>features_staff</th>\n",
       "      <th>accuracy</th>\n",
       "    </tr>\n",
       "  </thead>\n",
       "  <tbody>\n",
       "    <tr>\n",
       "      <th>2</th>\n",
       "      <td>love</td>\n",
       "      <td>0.468944</td>\n",
       "    </tr>\n",
       "    <tr>\n",
       "      <th>5</th>\n",
       "      <td>never</td>\n",
       "      <td>0.555901</td>\n",
       "    </tr>\n",
       "    <tr>\n",
       "      <th>1</th>\n",
       "      <td>do</td>\n",
       "      <td>0.565217</td>\n",
       "    </tr>\n",
       "    <tr>\n",
       "      <th>8</th>\n",
       "      <td>with</td>\n",
       "      <td>0.571429</td>\n",
       "    </tr>\n",
       "    <tr>\n",
       "      <th>0</th>\n",
       "      <td>come</td>\n",
       "      <td>0.574534</td>\n",
       "    </tr>\n",
       "    <tr>\n",
       "      <th>3</th>\n",
       "      <td>like</td>\n",
       "      <td>0.590062</td>\n",
       "    </tr>\n",
       "    <tr>\n",
       "      <th>6</th>\n",
       "      <td>now</td>\n",
       "      <td>0.590062</td>\n",
       "    </tr>\n",
       "    <tr>\n",
       "      <th>4</th>\n",
       "      <td>make</td>\n",
       "      <td>0.633540</td>\n",
       "    </tr>\n",
       "    <tr>\n",
       "      <th>7</th>\n",
       "      <td>wanna</td>\n",
       "      <td>0.667702</td>\n",
       "    </tr>\n",
       "    <tr>\n",
       "      <th>9</th>\n",
       "      <td>yo</td>\n",
       "      <td>0.689441</td>\n",
       "    </tr>\n",
       "  </tbody>\n",
       "</table>\n",
       "</div>"
      ],
      "text/plain": [
       "  features_staff  accuracy\n",
       "2           love  0.468944\n",
       "5          never  0.555901\n",
       "1             do  0.565217\n",
       "8           with  0.571429\n",
       "0           come  0.574534\n",
       "3           like  0.590062\n",
       "6            now  0.590062\n",
       "4           make  0.633540\n",
       "7          wanna  0.667702\n",
       "9             yo  0.689441"
      ]
     },
     "execution_count": 192,
     "metadata": {},
     "output_type": "execute_result"
    }
   ],
   "source": [
    "def temp_classify(test_row, train_rows, train_classes, k):\n",
    "    Genre = train_rows[\"Genre\"]\n",
    "    test_row = test_row[train_classes]\n",
    "    train_rows = train_rows[train_classes]\n",
    "    test_value = test_row\n",
    "    dist = []\n",
    "    for i in range(train_rows.shape[0]):\n",
    "        train_value = train_rows.iloc[i]\n",
    "        pay=test_value*train_value\n",
    "        payda1=test_value**2\n",
    "        payda2=train_value**2\n",
    "        dist.append((1 - (pay/((payda1*payda2)**0.5))))       \n",
    "    temp_df =  pd.DataFrame({\n",
    "        \"Distances\" : dist,\n",
    "        \"Genre\" : Genre\n",
    "    })\n",
    "    \n",
    "    temp_df = temp_df.sort_values(\"Distances\")\n",
    "    return temp_df.head(k)[\"Genre\"].mode()[0]\n",
    "\n",
    "acc = []\n",
    "for f in features_staff:\n",
    "    classified = []\n",
    "    for j in range(valid_lyrics.shape[0]):\n",
    "        classified.append(temp_classify(valid_lyrics.iloc[j],train_lyrics,f,7))\n",
    "    valid_lyrics[\"Classified\"] = classified\n",
    "    num = 0\n",
    "    for i in range(valid_lyrics.shape[0]):\n",
    "        if valid_lyrics[\"Genre\"].values[i] == valid_lyrics[\"Classified\"].values[i]:\n",
    "            num+=1\n",
    "    acc.append(num/valid_lyrics.shape[0])   \n",
    "    \n",
    "valid_lyrics = valid_lyrics.drop(\"Classified\",axis=1)\n",
    "single_feature_accuracies = pd.DataFrame({\"features_staff\":features_staff})\n",
    "single_feature_accuracies[\"accuracy\"] = acc\n",
    "single_feature_accuracies = single_feature_accuracies.sort_values(by = \"accuracy\", ascending = True)\n",
    "single_feature_accuracies"
   ]
  },
  {
   "cell_type": "markdown",
   "metadata": {},
   "source": [
    "An *ablation* study involves attempting to determine which features matter most for classification accuracy by removing (\"ablating\") each of them individually.\n",
    "\n",
    "**Question 4.1.3. [6 Points]** Create a two-column table `ablation_accuracies` that shows the accuracy on the validation set of a 7-NN classifier that has all `features_staff` except one. Include a row for every feature in `features_staff` that you leave out. (*Hint*: Lists have a `.remove` method that takes the element to be removed.)"
   ]
  },
  {
   "cell_type": "code",
   "execution_count": 187,
   "metadata": {},
   "outputs": [
    {
     "data": {
      "text/html": [
       "<div>\n",
       "<style scoped>\n",
       "    .dataframe tbody tr th:only-of-type {\n",
       "        vertical-align: middle;\n",
       "    }\n",
       "\n",
       "    .dataframe tbody tr th {\n",
       "        vertical-align: top;\n",
       "    }\n",
       "\n",
       "    .dataframe thead th {\n",
       "        text-align: right;\n",
       "    }\n",
       "</style>\n",
       "<table border=\"1\" class=\"dataframe\">\n",
       "  <thead>\n",
       "    <tr style=\"text-align: right;\">\n",
       "      <th></th>\n",
       "      <th>Feature</th>\n",
       "      <th>All-Except-One Accuracy</th>\n",
       "    </tr>\n",
       "  </thead>\n",
       "  <tbody>\n",
       "    <tr>\n",
       "      <th>9</th>\n",
       "      <td>yo</td>\n",
       "      <td>0.652174</td>\n",
       "    </tr>\n",
       "    <tr>\n",
       "      <th>1</th>\n",
       "      <td>do</td>\n",
       "      <td>0.677019</td>\n",
       "    </tr>\n",
       "    <tr>\n",
       "      <th>2</th>\n",
       "      <td>love</td>\n",
       "      <td>0.677019</td>\n",
       "    </tr>\n",
       "    <tr>\n",
       "      <th>6</th>\n",
       "      <td>now</td>\n",
       "      <td>0.680124</td>\n",
       "    </tr>\n",
       "    <tr>\n",
       "      <th>4</th>\n",
       "      <td>make</td>\n",
       "      <td>0.689441</td>\n",
       "    </tr>\n",
       "    <tr>\n",
       "      <th>5</th>\n",
       "      <td>never</td>\n",
       "      <td>0.689441</td>\n",
       "    </tr>\n",
       "    <tr>\n",
       "      <th>0</th>\n",
       "      <td>come</td>\n",
       "      <td>0.704969</td>\n",
       "    </tr>\n",
       "    <tr>\n",
       "      <th>7</th>\n",
       "      <td>wanna</td>\n",
       "      <td>0.708075</td>\n",
       "    </tr>\n",
       "    <tr>\n",
       "      <th>3</th>\n",
       "      <td>like</td>\n",
       "      <td>0.714286</td>\n",
       "    </tr>\n",
       "    <tr>\n",
       "      <th>8</th>\n",
       "      <td>with</td>\n",
       "      <td>0.720497</td>\n",
       "    </tr>\n",
       "  </tbody>\n",
       "</table>\n",
       "</div>"
      ],
      "text/plain": [
       "  Feature  All-Except-One Accuracy\n",
       "9      yo                 0.652174\n",
       "1      do                 0.677019\n",
       "2    love                 0.677019\n",
       "6     now                 0.680124\n",
       "4    make                 0.689441\n",
       "5   never                 0.689441\n",
       "0    come                 0.704969\n",
       "7   wanna                 0.708075\n",
       "3    like                 0.714286\n",
       "8    with                 0.720497"
      ]
     },
     "execution_count": 187,
     "metadata": {},
     "output_type": "execute_result"
    }
   ],
   "source": [
    "ablation_accuracies = pd.DataFrame({\"Feature\":features_staff})\n",
    "acc = []\n",
    "for f in features_staff:\n",
    "    features = list(features_staff) \n",
    "    features.remove(f)  \n",
    "    classified = []\n",
    "    for j in range(valid_lyrics.shape[0]):\n",
    "        classified.append(classify(valid_lyrics.iloc[j],train_lyrics,features,7))\n",
    "    valid_lyrics[\"Classified\"] = classified\n",
    "    num = 0\n",
    "    for i in range(valid_lyrics.shape[0]):\n",
    "        if valid_lyrics[\"Genre\"].values[i] == valid_lyrics[\"Classified\"].values[i]:\n",
    "            num+=1\n",
    "    acc.append(num/valid_lyrics.shape[0])   \n",
    "    \n",
    "    \n",
    "ablation_accuracies[\"All-Except-One Accuracy\"] = acc\n",
    "ablation_accuracies = ablation_accuracies.sort_values(\"All-Except-One Accuracy\")\n",
    "ablation_accuracies"
   ]
  },
  {
   "cell_type": "markdown",
   "metadata": {},
   "source": [
    "**Question 4.1.5. [8 Points]** Draw a scatter diagram with one dot for every **odd** value of `k` from 1 to 15 (inclusive) that plots the accuracy on the validation set on the horizontal axis and accuracy on the test set on the vertical axis. Use `features_staff` as the features for all points."
   ]
  },
  {
   "cell_type": "code",
   "execution_count": 196,
   "metadata": {},
   "outputs": [],
   "source": [
    "k = [1,3,5,7,9,11,13,15]\n",
    "df = pd.DataFrame({\"k\": k})\n",
    "acc_test = []\n",
    "acc_valid = []\n",
    "for k_value in k:\n",
    "    classified_test = []\n",
    "    classified_valid = []\n",
    "    \n",
    "    for j in range(valid_lyrics.shape[0]):\n",
    "        classified_valid.append(classify(valid_lyrics.iloc[j],train_lyrics,features_staff,k_value))\n",
    "    valid_lyrics[\"Classified\"] = classified_valid\n",
    "    num = 0\n",
    "    for i in range(valid_lyrics.shape[0]):\n",
    "        if valid_lyrics[\"Genre\"].values[i] == valid_lyrics[\"Classified\"].values[i]:\n",
    "            num+=1\n",
    "            \n",
    "    acc_valid.append(num/valid_lyrics.shape[0])\n",
    "    \n",
    "    \n",
    "    for j in range(test_lyrics.shape[0]):\n",
    "        classified_test.append(classify(test_lyrics.iloc[j],train_lyrics,features_staff,k_value))\n",
    "    test_lyrics[\"Classified\"] = classified_test\n",
    "    num = 0\n",
    "    for i in range(test_lyrics.shape[0]):\n",
    "        if test_lyrics[\"Genre\"].values[i] == test_lyrics[\"Classified\"].values[i]:\n",
    "            num+=1\n",
    "            \n",
    "    acc_test.append(num/test_lyrics.shape[0])\n",
    "    \n",
    "    valid_lyrics = valid_lyrics.drop(\"Classified\",axis=1)\n",
    "    test_lyrics = test_lyrics.drop(\"Classified\",axis=1)\n",
    "    \n",
    "\n",
    "df[\"Test Lyrics\"] = acc_test\n",
    "df[\"Valid Lyrics\"] = acc_valid"
   ]
  },
  {
   "cell_type": "code",
   "execution_count": 201,
   "metadata": {},
   "outputs": [
    {
     "data": {
      "image/png": "[encoded data removed]",
      "text/plain": [
       "<Figure size 432x288 with 1 Axes>"
      ]
     },
     "metadata": {
      "needs_background": "light"
     },
     "output_type": "display_data"
    }
   ],
   "source": [
    "k = df.plot.scatter(\"Valid Lyrics\",\"Test Lyrics\",c =\"red\")"
   ]
  },
  {
   "cell_type": "markdown",
   "metadata": {},
   "source": [
    "Congratulations! You're done with the project."
   ]
  }
 ],
 "metadata": {
  "kernelspec": {
   "display_name": "Python 3 (ipykernel)",
   "language": "python",
   "name": "python3"
  },
  "language_info": {
   "codemirror_mode": {
    "name": "ipython",
    "version": 3
   },
   "file_extension": ".py",
   "mimetype": "text/x-python",
   "name": "python",
   "nbconvert_exporter": "python",
   "pygments_lexer": "ipython3",
   "version": "3.9.7"
  }
 },
 "nbformat": 4,
 "nbformat_minor": 1
}
